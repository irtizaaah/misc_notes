{
 "cells": [
  {
   "cell_type": "markdown",
   "metadata": {},
   "source": [
    "# Python Reference\n",
    "\n",
    "The reference here goes over most of the syntax you would need to get started in python – and more. The goal is to get comfortable enough with the following python concepts to program simple applications without significant effort. \n"
   ]
  },
  {
   "cell_type": "markdown",
   "metadata": {},
   "source": [
    "## Printing"
   ]
  },
  {
   "cell_type": "code",
   "execution_count": 48,
   "metadata": {},
   "outputs": [
    {
     "name": "stdout",
     "output_type": "stream",
     "text": [
      "Basic Print: Hello 9\n",
      "Formated Print: Hello 9\n",
      "Concacted Print: Hello 9\n",
      "Comma Seperated Print: Hello 9\n",
      "Line Break Print: \n",
      "Hello\n",
      "9\n",
      "Tabbed Print: \tHello 9\n",
      "Expected Value Print: True\n"
     ]
    }
   ],
   "source": [
    "print('Basic Print: Hello 9')\n",
    "var = 9\n",
    "print(f'Formated Print: Hello {var}')\n",
    "print('Concacted Print: Hello ' + str(var))\n",
    "print('Comma Seperated Print: Hello', var)\n",
    "print('Line Break Print: \\nHello\\n9')\n",
    "print('Tabbed Print: \\tHello 9')\n",
    "print('Expected Value Print:', var==9)"
   ]
  },
  {
   "cell_type": "markdown",
   "metadata": {},
   "source": [
    "## Printing to console with colors\n",
    "ANSI Codes\n",
    "\n",
    "**Text Colors:**\n",
    "\n",
    "30: Black\n",
    "31: Red\n",
    "32: Green\n",
    "33: Yellow\n",
    "34: Blue\n",
    "35: Magenta\n",
    "36: Cyan\n",
    "37: White\n",
    "\n",
    "**Background Colors:**\n",
    "\n",
    "40: Black background\n",
    "41: Red background\n",
    "42: Green background\n",
    "43: Yellow background\n",
    "44: Blue background\n",
    "45: Magenta background\n",
    "46: Cyan background\n",
    "47: White background\n",
    "\n",
    "**Text Attributes:**\n",
    "\n",
    "0: Reset (reset all attributes)\n",
    "1: Bold\n",
    "4: Underlined\n",
    "7: Inverse (swap foreground and background colors)\n",
    "\n",
    "**Format**: \\033[38;2;\\<r>;\\<g>;\\<b>m"
   ]
  },
  {
   "cell_type": "code",
   "execution_count": 5,
   "metadata": {},
   "outputs": [
    {
     "name": "stdout",
     "output_type": "stream",
     "text": [
      "\u001b[31mThis is red text\u001b[0m\n",
      "\u001b[32mThis is green text\u001b[0m\n",
      "\u001b[33mThis is yellow text\u001b[0m\n",
      "\u001b[34mThis is blue text\u001b[0m\n",
      "This is normal text\n",
      "\u001b[45;30m This has a background \u001b[0m\n"
     ]
    }
   ],
   "source": [
    "# ANSI escape sequences\n",
    "RED = \"\\033[31m\"\n",
    "GREEN = \"\\033[32m\"\n",
    "YELLOW = \"\\033[33m\"\n",
    "BLUE = \"\\033[34m\"\n",
    "RESET = \"\\033[0m\"\n",
    "\n",
    "print(f\"{RED}This is red text{RESET}\")\n",
    "print(f\"{GREEN}This is green text{RESET}\")\n",
    "print(f\"{YELLOW}This is yellow text{RESET}\")\n",
    "print(f\"{BLUE}This is blue text{RESET}\")\n",
    "print(\"This is normal text\")\n",
    "\n",
    "TITLE_FORMAT = \"\\033[45;30m\"\n",
    "RESET_FORMAT = \"\\033[0m\"\n",
    "\n",
    "print(f'{TITLE_FORMAT} This has a background {RESET_FORMAT}')\n"
   ]
  },
  {
   "cell_type": "markdown",
   "metadata": {},
   "source": [
    "## Data Types"
   ]
  },
  {
   "cell_type": "code",
   "execution_count": 62,
   "metadata": {},
   "outputs": [
    {
     "name": "stdout",
     "output_type": "stream",
     "text": [
      "<class 'int'>\n",
      "<class 'float'>\n",
      "<class 'str'>\n",
      "<class 'bool'>\n",
      "<class 'tuple'>\n",
      "<class 'list'>\n",
      "<class 'dict'>\n",
      "<class 'set'>\n",
      "<class 'collections.deque'>\n"
     ]
    }
   ],
   "source": [
    "int_var = 1 # immutable\n",
    "print(type(int_var))\n",
    "\n",
    "float_var = 0.5 # immutable\n",
    "print(type(float_var))\n",
    "\n",
    "string_var = 'foobar' # immutable\n",
    "print(type(string_var)) \n",
    "\n",
    "bool_var = True # immutable\n",
    "print(type(bool_var))\n",
    "\n",
    "tuple_var = (1,2) # immutable\n",
    "print(type(tuple_var))\n",
    "\n",
    "list_var = [1,2,3] # mutable\n",
    "print(type(list_var))\n",
    "\n",
    "dict_var = {'a':1, 'b':2} # mutable\n",
    "print(type(dict_var))\n",
    "\n",
    "set_var = set() # mutable\n",
    "print(type(set_var))\n",
    "\n",
    "from collections import deque \n",
    "queue_var = deque([]) # mutable\n",
    "print(type(queue_var))"
   ]
  },
  {
   "cell_type": "markdown",
   "metadata": {},
   "source": [
    "## Logical and Comparison Operators"
   ]
  },
  {
   "cell_type": "code",
   "execution_count": 63,
   "metadata": {},
   "outputs": [
    {
     "name": "stdout",
     "output_type": "stream",
     "text": [
      "Logical Operators:  False\n",
      "Comparison Operators:  True True True True True True\n"
     ]
    }
   ],
   "source": [
    "print(\"Logical Operators: \", not (True) and False == True or False)\n",
    "print(\"Comparison Operators: \", 2 > 1, 1 < 2, 1 >= 1, 1 <= 2, 1 == 1, 1 != 2)"
   ]
  },
  {
   "cell_type": "markdown",
   "metadata": {},
   "source": [
    "## Loops"
   ]
  },
  {
   "cell_type": "code",
   "execution_count": 64,
   "metadata": {},
   "outputs": [
    {
     "name": "stdout",
     "output_type": "stream",
     "text": [
      "Index Iteration (Forward)\n",
      "0\n",
      "1\n",
      "2\n",
      "Index Iteration (Forward & Even)\n",
      "0\n",
      "2\n",
      "Index Iteration (Backwards)\n",
      "2\n",
      "1\n",
      "0\n",
      "Element Iteration (Forward)\n",
      "1\n",
      "2\n",
      "3\n",
      "Element Iteration (Forward & Even)\n",
      "1\n",
      "3\n",
      "Element Iteration (Backwards)\n",
      "3\n",
      "2\n",
      "1\n",
      "Enumerated Iteration (Forwards)\n",
      "0 1\n",
      "1 2\n",
      "2 3\n",
      "While Loop\n",
      "3\n",
      "2\n",
      "1\n"
     ]
    }
   ],
   "source": [
    "nums = [1,2,3]\n",
    "\n",
    "# Index Iteration (Forward)\n",
    "print('Index Iteration (Forward)')\n",
    "for i in range(len(nums)): #for(int i = 0; i < nums_length; i+1)\n",
    "    print(i) \n",
    "\n",
    "# Index Iteration (Forward & Even)\n",
    "print('Index Iteration (Forward & Even)')\n",
    "for i in range(0, len(nums), 2): #for(int i = 0; i < nums_length; i+2)\n",
    "    print(i) \n",
    "\n",
    "# Index Iteration (Backwards)\n",
    "print('Index Iteration (Backwards)')\n",
    "for i in range(len(nums)-1,-1,-1): #for(int i = nums_length-1; i > -1; i-1)\n",
    "    print(i) \n",
    "\n",
    "# Element Iteration (Forward)\n",
    "print('Element Iteration (Forward)')\n",
    "for num in nums: # for(int i = 0; i < nums_length; i += 1) num = nums[i]\n",
    "    print(num)\n",
    "\n",
    "# Element Iteration (Forward & Even)\n",
    "print('Element Iteration (Forward & Even)')\n",
    "for num in nums[0::2]: # for(int i = 0; i < nums_length; i += 2) num = nums[i]\n",
    "    print(num)\n",
    "\n",
    "# Element Iteration (Backwards)\n",
    "print('Element Iteration (Backwards)')\n",
    "for num in nums[-1::-1]: # for(int i = 0; i < nums_length; i += 2) num = nums[i]\n",
    "    print(num)\n",
    "\n",
    "# Enumerated Iteration (Forwards)\n",
    "print('Enumerated Iteration (Forwards)')\n",
    "for i,num in enumerate(nums): # \n",
    "    print(i, num)\n",
    "\n",
    "# While Loop\n",
    "print('While Loop')\n",
    "# for(i = 0, i < 3, i += 1) \n",
    "i = len(nums)-1\n",
    "while i >= 0:\n",
    "  print(nums[i]) # 3 1\n",
    "  i-=1\n"
   ]
  },
  {
   "cell_type": "markdown",
   "metadata": {},
   "source": [
    "## Conditional Statements"
   ]
  },
  {
   "cell_type": "code",
   "execution_count": 65,
   "metadata": {},
   "outputs": [
    {
     "name": "stdout",
     "output_type": "stream",
     "text": [
      "num is 1\n",
      "num is 1\n"
     ]
    }
   ],
   "source": [
    "num = 1\n",
    "\n",
    "if num==1:\n",
    "    print('num is 1')\n",
    "elif num==2:\n",
    "    print('num is 2')\n",
    "else:\n",
    "    print('num is not 1 or 2')\n",
    "\n",
    "print('num is 1' if num==1 else 'num is not 1')"
   ]
  },
  {
   "cell_type": "markdown",
   "metadata": {},
   "source": [
    "## Iteration Halting Statements"
   ]
  },
  {
   "cell_type": "code",
   "execution_count": 7,
   "metadata": {},
   "outputs": [
    {
     "name": "stdout",
     "output_type": "stream",
     "text": [
      "Break\n",
      "1\n",
      "Continue\n",
      "1\n",
      "3\n",
      "4\n",
      "Pass\n",
      "1\n",
      "2\n",
      "3\n",
      "4\n"
     ]
    }
   ],
   "source": [
    "nums = [1,2,3,4]\n",
    "\n",
    "# Break\n",
    "print('Break')\n",
    "i = 0\n",
    "while i < len(nums):\n",
    "  if nums[i] == 2: \n",
    "    break # ends iteration\n",
    "  print(nums[i]) # 3\n",
    "  i+=1\n",
    "\n",
    "# Continue\n",
    "print('Continue')\n",
    "i = 0\n",
    "while i < len(nums):\n",
    "  if nums[i] == 2: \n",
    "    i+=1\n",
    "    continue # skips iteration\n",
    "  print(nums[i]) # 1 3\n",
    "  i+=1\n",
    "\n",
    "# Pass\n",
    "print('Pass')\n",
    "i = 0\n",
    "while i < len(nums):\n",
    "  if nums[i] == 2: \n",
    "    pass # does nothing to iteration\n",
    "  print(nums[i]) # 1 2 3\n",
    "  i+=1"
   ]
  },
  {
   "cell_type": "markdown",
   "metadata": {},
   "source": [
    "## Math Functions"
   ]
  },
  {
   "cell_type": "code",
   "execution_count": 10,
   "metadata": {},
   "outputs": [
    {
     "name": "stdout",
     "output_type": "stream",
     "text": [
      "Arithmetic: (2 + 2 * 3 ** 2 // 9) % 2 =  0.0\n",
      "Count:  0\n",
      "Round (Floor):  -2\n",
      "Round (Ceil):  -1\n",
      "Absolute Value:  1.5\n",
      "+ Infinity:  inf\n",
      "- Infinity:  -inf\n",
      "Random Decimal Value:  0.37066457335509606\n",
      "Random Integer Value:  2\n",
      "Minimum Value [1,2,3]:  1\n",
      "Maximum Value [1,2,3]:  3\n"
     ]
    }
   ],
   "source": [
    "# Arithmetic\n",
    "print('Arithmetic: (2 + 2 * 3 ** 2 // 9) % 2 = ', (2 + 2 * 3 ** 2 / 9) % 2)\n",
    "# (2 + 2 * 3 ** 2 / 9) % 2 (Parathesis)\n",
    "# <=> (2 + 2 * 9//9)%2 (Exponential)\n",
    "# <=> (2 + 2 * 1)%2 (Division)\n",
    "# <=> (2 + 2)%2 (Multiplication)\n",
    "# <=> (4)%2 (Addition/Subtraction)\n",
    "# <=> 0.0 (Modulus)\n",
    "\n",
    "# Incrementation\n",
    "count = 0\n",
    "count += 1\n",
    "count -= 1\n",
    "print('Count: ', count)\n",
    "\n",
    "# Round\n",
    "import math\n",
    "print('Round (Floor): ', math.floor(-1.5))\n",
    "print('Round (Ceil): ', math.ceil(-1.5))\n",
    "\n",
    "# Absolute Value\n",
    "abs_val = abs(-1.5)\n",
    "print('Absolute Value: ', abs_val)\n",
    "\n",
    "# Infinity Value\n",
    "print('+ Infinity: ', float('inf'))\n",
    "print('- Infinity: ', float('-inf'))\n",
    "\n",
    "# Random Value\n",
    "import random\n",
    "print('Random Decimal Value: ', random.uniform(0,1))\n",
    "print('Random Integer Value: ', random.randint(1,10))\n",
    "\n",
    "# Max/min\n",
    "nums = [1,2,3]\n",
    "print('Minimum Value [1,2,3]: ', min(nums))\n",
    "print('Maximum Value [1,2,3]: ', max(nums))\n"
   ]
  },
  {
   "cell_type": "markdown",
   "metadata": {},
   "source": [
    "## Type Casting"
   ]
  },
  {
   "cell_type": "code",
   "execution_count": 3,
   "metadata": {},
   "outputs": [
    {
     "name": "stdout",
     "output_type": "stream",
     "text": [
      "String to Characters: ['1', '2', '3']\n",
      "String to Words: ['123', '456']\n",
      "List to String: [1,2,3] to 123\n",
      "String to Integer:  1\n",
      "String to Float:  1.0\n",
      "Character to ASCII:  97\n",
      "Integer to String:  1\n",
      "Base 2 to Base 10:  5\n",
      "Base 10 to Base 2:  0b10\n"
     ]
    }
   ],
   "source": [
    "# string to list of characters\n",
    "word = '123' \n",
    "[*chars] = word # unpack operator (similar to JS's spread operator)\n",
    "print('String to Characters:', chars) \n",
    "\n",
    "# string to list of words\n",
    "sentence = '123 456'\n",
    "delimeter = ' '\n",
    "print('String to Words:', sentence.split(delimeter))\n",
    "\n",
    "# list to string\n",
    "nums = [1,2,3]\n",
    "nums_str = [str(num) for num in nums]\n",
    "print('List to String: [1,2,3] to',''.join(nums_str))\n",
    "\n",
    "# string to int\n",
    "print('String to Integer: ',int('1'))\n",
    "\n",
    "# string to float\n",
    "print('String to Float: ',float('1.0'))\n",
    "\n",
    "# character to ASCII\n",
    "print('Character to ASCII: ',ord('a'))\n",
    "\n",
    "# number to string \n",
    "print('Integer to String: ', str(1))\n",
    "\n",
    "# Base 2 to Base 10\n",
    "print('Base 2 to Base 10: ',int('0b101', 2))\n",
    "\n",
    "# Base 10 to Base 2\n",
    "print('Base 10 to Base 2: ',bin(2)) "
   ]
  },
  {
   "cell_type": "markdown",
   "metadata": {},
   "source": [
    "## Arrays"
   ]
  },
  {
   "cell_type": "code",
   "execution_count": 14,
   "metadata": {},
   "outputs": [
    {
     "name": "stdout",
     "output_type": "stream",
     "text": [
      "Array's Length [1,2,3]:  3\n",
      "Vector 1:  [1, 1, 1]\n",
      "Vector 2:  [1, 1, 1]\n",
      "Matrix 1:  [[0, 1, 2], [3, 4, 5], [6, 7, 8]]\n",
      "Matrix 2:  [[0, 0, 0], [0, 0, 0], [0, 0, 0]]\n",
      "Copy Arrays:  4409512704 4481561472 4481561472\n",
      "Compare Arrays:  True\n",
      "Concat Array:  ['a', 'b', 'c', 'p', 'q', 'r', 'x', 'y', 'z']\n",
      "Flatten Array:  [0, 0, 0, 1, 1, 1, 2, 2, 2]\n",
      "Push Element (To the Back):  [1, 2, 3]\n",
      "Pop Element (From the Back):  [1, 2]\n",
      "Insert Element (To Any Index):  [1, 99, 2, 3]\n",
      "Pop Element (From Any Index):  [2, 3]\n",
      "Pop Element (From the Front):  deque([2, 3])\n",
      "Select Subarray:  ['b', 'c']\n",
      "Remove/Replace Subarray:  ['x', 'e']\n",
      "Sort Array (Ascending):  [1, 2, 3]\n",
      "Sort Array (Descending):  [3, 2, 1]\n",
      "Sort Array (By Pair Value):  [(2, 0), (3, 1), (1, 2)]\n"
     ]
    }
   ],
   "source": [
    "# Array Size\n",
    "print('Array\\'s Length [1,2,3]: ', len([1,2,3]))\n",
    "\n",
    "# Fill 1 Dimensional Arrays\n",
    "vector1 = [1 for i in range(3)] \n",
    "print('Vector 1: ',vector1) \n",
    "print('Vector 2: ',vector2)\n",
    "\n",
    "# Fill 2 Dimensional Arrays\n",
    "rows, cols = 3, 3\n",
    "matrix = [[col + row * cols for col in range(cols)] for row in range(rows)]\n",
    "print('Matrix 1: ', matrix)\n",
    "\n",
    "# Here is another version, but always becareful when using the * operator \n",
    "# When repeating elements with *, it creates references to objects not copies\n",
    "# List is an object, so you get the same list referenced multiple times NOT COPIED\n",
    "# We can get away with that here, because ints/floats are immutable.\n",
    "rows, cols = 3, 3\n",
    "matrix = [[0] * cols for _ in range(rows)]\n",
    "print('Matrix 2: ', matrix)\n",
    "\n",
    "# Copy Arrays\n",
    "nums = [1,2,3]\n",
    "numsCopy1 = nums.copy();\n",
    "numsCopy2 = nums[:]\n",
    "print('Copy Arrays: ', id(nums), id(numsCopy1), id(numsCopy1))\n",
    "\n",
    "# Compare Arrays\n",
    "nums = [1,2,3]\n",
    "numsCopy1 = nums.copy();\n",
    "numsCopy2 = nums[:]\n",
    "print('Compare Arrays: ', nums == numsCopy1 and nums == numsCopy2)\n",
    "\n",
    "# Concact Array\n",
    "alpha = ['a','b','c']\n",
    "alpha = alpha + ['p','q','r']\n",
    "alpha.extend(['x','y','z'])\n",
    "print('Concat Array: ', alpha) \n",
    "\n",
    "# Flatten Array\n",
    "nums = [[0,0,0],[1,1,1],[2,2,2]]\n",
    "print('Flatten Array: ', [num for list in nums for num in list])\n",
    "\n",
    "# Push Element (To the Back)\n",
    "stack = [1,2]\n",
    "stack.append(3)\n",
    "print('Push Element (To the Back): ', stack)\n",
    "\n",
    "# Pop Element (From the Back)\n",
    "stack = [1,2,3]\n",
    "stack.pop()\n",
    "print('Pop Element (From the Back): ', stack) \n",
    "\n",
    "# Insert Element (To Any Index)\n",
    "nums = [1,2,3]\n",
    "nums.insert(1,99)\n",
    "print('Insert Element (To Any Index): ', nums) \n",
    "\n",
    "# Pop Element (From Any Index)\n",
    "nums = [1,2,3]\n",
    "nums.pop(0) # O(n)\n",
    "print('Pop Element (From Any Index): ', nums) \n",
    "\n",
    "# Pop Element (From The Front)\n",
    "from collections import deque\n",
    "queue = deque([1,2,3]) \n",
    "queue.popleft() # O(1)\n",
    "print('Pop Element (From the Front): ', queue) \n",
    "\n",
    "# Select Subarray\n",
    "letters = ['a','b','c','d']\n",
    "slicedLetters = letters[1:3] \n",
    "print('Select Subarray: ',slicedLetters) \n",
    "\n",
    "# Remove/Replace Subarray\n",
    "letters = ['a','b','c','d','e']\n",
    "letters[0:2] = ''\n",
    "letters[0:2] = 'x'\n",
    "print('Remove/Replace Subarray: ',letters) \n",
    "\n",
    "# Sort Array (Ascending)\n",
    "nums = [2,1,3]\n",
    "nums.sort()\n",
    "print('Sort Array (Ascending): ', nums)\n",
    "\n",
    "# Sort Array (Descending)\n",
    "nums = [1,2,3]\n",
    "nums.sort(reverse=True)\n",
    "print('Sort Array (Descending): ',nums) # [3,2,1]\n",
    "\n",
    "# Sort Array (By Pair Value)\n",
    "pairs = [(1,2),(3,1),(2,0)] \n",
    "pairs.sort(key=lambda num: num[1], reverse=False)\n",
    "print('Sort Array (By Pair Value): ', pairs) # [(2, 0), (3, 1), (1, 2)]"
   ]
  },
  {
   "cell_type": "markdown",
   "metadata": {},
   "source": [
    "## Strings"
   ]
  },
  {
   "cell_type": "code",
   "execution_count": 70,
   "metadata": {},
   "outputs": [
    {
     "name": "stdout",
     "output_type": "stream",
     "text": [
      "Compare Strings:  True\n",
      "Change Letter Case:  ABC abc\n",
      "Check if Character is an Alphabet:  True\n",
      "Check if Character is a Digit:  True\n",
      "Match with Regex:  True\n",
      "Replace with Regex:  foo@mail.com\n",
      "ASCII Value to Character:  a\n",
      "Character to ASCII Value:  97\n"
     ]
    }
   ],
   "source": [
    "# Compare Strings\n",
    "print('Compare Strings: ', 'abc'=='abc')\n",
    "\n",
    "# Change Letter Case\n",
    "print('Change Letter Case: ', 'abc'.upper(),'ABC'.lower()) \n",
    "\n",
    "# Check if Character is an Alphabet\n",
    "print('Check if Character is an Alphabet: ', 'a'.isalpha())\n",
    "\n",
    "# Check if Character is a Digit\n",
    "print('Check if Character is a Digit: ', '1'.isdigit())\n",
    "\n",
    "# Match with Regex\n",
    "import re\n",
    "print('Match with Regex: ', bool(re.match(\"[a-z]*[0-9]*\", \"foobar\")))\n",
    "\n",
    "# Replace with Regex\n",
    "import re\n",
    "print('Replace with Regex: ', re.sub(\"[a-z]*@\", \"foo@\", \"bar@mail.com\")) \n",
    "\n",
    "# Convert Between ASCII Value and Character\n",
    "print('ASCII Value to Character: ', chr(97))\n",
    "print('Character to ASCII Value: ', ord('a')) "
   ]
  },
  {
   "cell_type": "markdown",
   "metadata": {},
   "source": [
    "## Hash Structures"
   ]
  },
  {
   "cell_type": "code",
   "execution_count": 71,
   "metadata": {},
   "outputs": [
    {
     "name": "stdout",
     "output_type": "stream",
     "text": [
      "Declare Dictionary:  {'a': 1, 'b': 2, 'c': 3}\n",
      "Append val & Value:  {'a': 999, 'b': 2, 'c': 3}\n",
      "Get Value & Initialize:  {'a': 999, 'b': 2, 'c': 3, 'd': 1}\n",
      "Print vals: \n",
      "999\n",
      "2\n",
      "3\n",
      "1\n",
      "Print Values: \n",
      "999\n",
      "2\n",
      "3\n",
      "1\n",
      "Check Existence True\n",
      "Remove Key:  3\n",
      "Declare Set:  {1, 2, 3}\n",
      "Append Key:  {1, 2, 3, 4}\n",
      "Get Size:  4\n",
      "Print Keys: \n",
      "1\n",
      "2\n",
      "3\n",
      "4\n",
      "Check Existence:  True\n"
     ]
    }
   ],
   "source": [
    "# Declare Dictionary\n",
    "dict_var = {'a':1, 'b':2, 'c':3}\n",
    "print('Declare Dictionary: ', dict_var)\n",
    "\n",
    "# Append val & Value\n",
    "dict_var['a'] = 999\n",
    "print('Append val & Value: ', dict_var)\n",
    "\n",
    "# Get Value & Initialize\n",
    "dict_var['d'] = dict_var.get('d', 0) + 1 # if val 'd' has value of 'None', set value as 0 and increment by 1\n",
    "print('Get Value & Initialize: ', dict_var)\n",
    "\n",
    "# Print vals\n",
    "print('Print vals: ')\n",
    "for val in dict_var: \n",
    "    print(dict_var[val]) \n",
    "\n",
    "# Print Values\n",
    "print('Print Values: ')\n",
    "for key,value in dict_var.items(): \n",
    "    print(value) \n",
    "\n",
    "# Check Existence\n",
    "print('Check Existence', 'b' in dict_var)\n",
    "\n",
    "# Remove Key\n",
    "print('Remove Key: ', dict_var.pop('c')) \n",
    "\n",
    "# ---\n",
    "\n",
    "# Declare Set\n",
    "set_var = set() # empty set\n",
    "set_var = {1,2,3}\n",
    "print('Declare Set: ', set_var)\n",
    "\n",
    "# Append Key\n",
    "set_var.add(4)\n",
    "print('Append Key: ', set_var)\n",
    "\n",
    "# Get Size\n",
    "print('Get Size: ', len(set_var))\n",
    "\n",
    "# Get Keys\n",
    "print('Print Keys: ')\n",
    "for key in set_var: \n",
    "    print(key) \n",
    "\n",
    "# Check existence\n",
    "print('Check Existence: ', 4 in set_var)"
   ]
  },
  {
   "cell_type": "markdown",
   "metadata": {},
   "source": [
    "## Functions"
   ]
  },
  {
   "cell_type": "code",
   "execution_count": 72,
   "metadata": {},
   "outputs": [
    {
     "name": "stdout",
     "output_type": "stream",
     "text": [
      "Double List Values & Combine Them Into One String:  246\n"
     ]
    }
   ],
   "source": [
    "'''\n",
    "1. Declare Functions\n",
    "2. Declare Lambda Functions\n",
    "3. Declare Higher Order Functions\n",
    "4. Declare Nested Functions\n",
    "'''\n",
    "\n",
    "# Doubled List Values & Combine Them Into One String:\n",
    "def string_map(list, helper_function):\n",
    "  res = \"\"\n",
    "  \n",
    "  def combine(num):\n",
    "    nonlocal res # reference variable outside of function scope\n",
    "    res += str(num)\n",
    "    \n",
    "  for i in list:\n",
    "    combine(helper_function(i))\n",
    "\n",
    "  return res;\n",
    "\n",
    "print('Double List Values & Combine Them Into One String: ', string_map([1,2,3], lambda num: num*2)) # 246"
   ]
  },
  {
   "cell_type": "markdown",
   "metadata": {},
   "source": [
    "## Classes"
   ]
  },
  {
   "cell_type": "code",
   "execution_count": 4,
   "metadata": {},
   "outputs": [
    {
     "name": "stdout",
     "output_type": "stream",
     "text": [
      "Print Tree Nodes (On run-time) :\n",
      "\n",
      "b\n",
      "a\n",
      "c\n",
      "Print Tree:  bac\n",
      "Convert Tree to String:  bac\n"
     ]
    }
   ],
   "source": [
    "'''\n",
    "1. Declare Classes\n",
    "2. Declare Constructor\n",
    "3. Create Member _variables\n",
    "4. Create Methods\n",
    "5. Declare and Initialize Object Instances\n",
    "'''\n",
    "\n",
    "class TreeNode:\n",
    "  def __init__(self, val, left = None, right = None):\n",
    "    self.val = val\n",
    "    self.left = left\n",
    "    self.right = right\n",
    "\n",
    "class Tree:\n",
    "  def __init__(self, root):\n",
    "    self.root = root\n",
    "\n",
    "  def dfs(self, root, helper_function):\n",
    "    if not root: \n",
    "      return\n",
    "      \n",
    "    helper_function(root.val)\n",
    "    \n",
    "    self.dfs(root.left, helper_function)\n",
    "    return self.dfs(root.right, helper_function)\n",
    "\n",
    "  def print_nodes_on_runtime(self):\n",
    "    self.dfs(self.root, lambda val: print(val))\n",
    "  \n",
    "  def __str__(self): # custom dunder method for print() & str()\n",
    "    res = []\n",
    "    self.dfs(self.root, lambda val: res.append(val))\n",
    "    return ''.join(map(str, res)) # convert every element in res to string and combine them into one string\n",
    "    \n",
    "root = TreeNode('a', TreeNode('b'), TreeNode('c'))\n",
    "tree = Tree(root)\n",
    "\n",
    "# Print Tree Nodes (On run-time)\n",
    "print('Print Tree Nodes (On run-time) :\\n')\n",
    "tree.print_nodes_on_runtime()\n",
    "\n",
    "# Print Tree\n",
    "print('Print Tree: ', tree)\n",
    "\n",
    "# Convert Tree to String\n",
    "print('Convert Tree to String: ', str(tree))"
   ]
  },
  {
   "cell_type": "markdown",
   "metadata": {},
   "source": [
    "## Language Specific Operations"
   ]
  },
  {
   "cell_type": "code",
   "execution_count": 6,
   "metadata": {},
   "outputs": [
    {
     "name": "stdout",
     "output_type": "stream",
     "text": [
      "Reversing List:  [3, 2, 1]\n",
      "List Unpacking:  1 2 [3, 4, 5] 6\n",
      "Check number between values:  True\n",
      "List Comprehensions:  [(0, 1), (1, 2), (2, 3)]\n",
      "List Comprehensions (Flatten List):  [1, 2, 3, 4, 5, 6, 7, 8, 9]\n",
      "Filter:  [3, 4, 5]\n",
      "Map:  [2, 4, 6, 8, 10]\n",
      "Zip:  [(1, 1), (2, 2), (3, 3), (4, 4), (5, 5)]\n",
      "Reduce:  15\n"
     ]
    }
   ],
   "source": [
    "# Reversing List\n",
    "nums = [1,2,3]\n",
    "print('Reversing List: ',nums[::-1])\n",
    "\n",
    "# List Unpacking\n",
    "a, b, *c, d = [1,2,3,4,5,6]\n",
    "print('List Unpacking: ', a,b,c,d) # 1 2 [3, 4, 5] 6\n",
    "\n",
    "# Checking a number between values\n",
    "x = 2\n",
    "print('Check number between values: ', 1 < x < 3)\n",
    "\n",
    "# List Comprehensions\n",
    "nums = [1,2,3]\n",
    "pairs = [(i,num) for i,num in enumerate(nums)]\n",
    "print('List Comprehensions: ', pairs); # [(0, 1), (1, 2), (2, 3)]\n",
    "\n",
    "lists = [[1,2,3],[4,5,6],[7,8,9]]\n",
    "flat_list = [num for list in lists for num in list]\n",
    "print('List Comprehensions (Flatten List): ', flat_list); # [1, 2, 3, 4, 5, 6, 7, 8, 9]\n",
    "\n",
    "# Filter\n",
    "nums = [1, 2, 3, 4, 5]\n",
    "print('Filter: ', list(filter(lambda x: x > 2, nums)))\n",
    "\n",
    "# Map\n",
    "nums1 = [1, 2, 3, 4, 5]\n",
    "nums2 = [1, 2, 3, 4, 5]\n",
    "print('Map: ', list(map(lambda x, y: x + y, nums1, nums2)))\n",
    "\n",
    "# Zip\n",
    "nums1 = [1, 2, 3, 4, 5]\n",
    "nums2 = [1, 2, 3, 4, 5]\n",
    "print('Zip: ',list(zip(nums1, nums2)))\n",
    "\n",
    "# Reduce\n",
    "from functools import reduce\n",
    "\n",
    "nums1 = [1, 2, 3, 4, 5]\n",
    "print('Reduce: ',reduce(lambda acc, num: acc + num, nums1, 0))"
   ]
  },
  {
   "cell_type": "markdown",
   "metadata": {},
   "source": [
    "## Logging"
   ]
  },
  {
   "cell_type": "code",
   "execution_count": 90,
   "metadata": {},
   "outputs": [
    {
     "name": "stderr",
     "output_type": "stream",
     "text": [
      "DEBUG:my_logger:This is a debug message\n",
      "INFO:my_logger:This is an info message\n",
      "WARNING:my_logger:This is a warning message\n",
      "ERROR:my_logger:This is an error message\n",
      "CRITICAL:my_logger:This is a critical message\n"
     ]
    }
   ],
   "source": [
    "import logging\n",
    "import logging.config\n",
    "\n",
    "# LOGGING TO CONSOLE\n",
    "# Create a logger\n",
    "logger = logging.getLogger('my_logger')\n",
    "\n",
    "# Log messages\n",
    "logger.debug(\"This is a debug message\")\n",
    "logger.info(\"This is an info message\")\n",
    "logger.warning(\"This is a warning message\")\n",
    "logger.error(\"This is an error message\")\n",
    "logger.critical(\"This is a critical message\")\n",
    "\n",
    "# LOGGING TO A FILE (EASY)\n",
    "logging.basicConfig(filename='app.log', level=logging.INFO, format='%(asctime)s - %(levelname)s - %(message)s')\n",
    "logging.info('This is an info message')\n",
    "logging.warning('This is a warning message')\n",
    "logging.error('This is an error message')\n",
    "\n",
    "\n",
    "# LOGGING TO A FILE (ADVANCED)\n",
    "# Define the configuration\n",
    "logging_config = {\n",
    "    'version': 1,\n",
    "    'disable_existing_loggers': False,\n",
    "    'formatters': {\n",
    "        'standard': {\n",
    "            'format': '%(asctime)s - %(name)s - %(levelname)s - %(message)s',\n",
    "            'datefmt': '%Y-%m-%d %H:%M:%S'\n",
    "        },\n",
    "    },\n",
    "    'handlers': {\n",
    "        'file1': {\n",
    "            'level': 'DEBUG',\n",
    "            'class': 'logging.FileHandler',\n",
    "            'formatter': 'standard',\n",
    "            'filename': './assets/2_log1.log',\n",
    "            'mode': 'w',\n",
    "        },\n",
    "        'file2': {\n",
    "            'level': 'DEBUG',\n",
    "            'class': 'logging.FileHandler',\n",
    "            'formatter': 'standard',\n",
    "            'filename': './assets/2_log2.log',\n",
    "            'mode': 'w',\n",
    "        },\n",
    "        'custom': {\n",
    "            'level': 'DEBUG',\n",
    "            'class': 'logging.FileHandler',\n",
    "            'formatter': 'standard',\n",
    "            'filename': './assets/2_log3.log',\n",
    "            'mode': 'w',\n",
    "        },\n",
    "    },\n",
    "    'loggers': {\n",
    "        'part1': {\n",
    "            'handlers': ['file1'],\n",
    "            'level': 'DEBUG',\n",
    "            'propagate': False\n",
    "        },\n",
    "        'part2': {\n",
    "            'handlers': ['file2'],\n",
    "            'level': 'DEBUG',\n",
    "            'propagate': False\n",
    "        },\n",
    "        'custom': {\n",
    "            'handlers': ['custom'],\n",
    "            'level': 'DEBUG',\n",
    "            'propagate': False\n",
    "        },\n",
    "    }\n",
    "}\n",
    "\n",
    "# Applying the logging configuration\n",
    "logging.config.dictConfig(logging_config)\n",
    "\n",
    "# Create loggers\n",
    "logger1 = logging.getLogger('part1')\n",
    "logger2 = logging.getLogger('part2')\n",
    "\n",
    "# Log messages to demonstrate logging for different parts\n",
    "logger1.debug(\"This is a debug message\")\n",
    "logger1.info(\"This is an info message\")\n",
    "logger1.warning(\"This is a warning message\")\n",
    "logger1.error(\"This is an error message\")\n",
    "logger1.critical(\"This is a critical message\")\n",
    "\n",
    "logger2.debug(\"This is a debug message for part2\")\n",
    "logger2.info(\"This is an info message for part2\")\n",
    "\n",
    "# Custom Filter\n",
    "class CustomFilter(logging.Filter):\n",
    "    def filter(self, record):\n",
    "        return 'part1' in record.getMessage()\n",
    "\n",
    "# Adding filter to custom handler\n",
    "file_handler = logging.FileHandler('./assets/2_log3.log')\n",
    "file_handler.addFilter(CustomFilter())\n",
    "file_handler.setFormatter(logging.Formatter('%(asctime)s - %(name)s - %(levelname)s - %(message)s', '%Y-%m-%d %H:%M:%S'))\n",
    "\n",
    "# Add the handler with the filter to the custom logger\n",
    "logger_custom = logging.getLogger('custom')\n",
    "logger_custom.addHandler(file_handler)\n",
    "\n",
    "# Log messages to demonstrate custom filtering\n",
    "logger_custom.debug(\"This message should be logged because it mentions part1\")\n",
    "logger_custom.debug(\"This message should NOT be logged because it doesn't mention part1\")\n"
   ]
  },
  {
   "cell_type": "markdown",
   "metadata": {},
   "source": [
    "## Testing"
   ]
  },
  {
   "cell_type": "code",
   "execution_count": 94,
   "metadata": {},
   "outputs": [
    {
     "name": "stderr",
     "output_type": "stream",
     "text": [
      "..\n",
      "----------------------------------------------------------------------\n",
      "Ran 2 tests in 0.001s\n",
      "\n",
      "OK\n"
     ]
    }
   ],
   "source": [
    "import unittest\n",
    "\n",
    "def add(a, b):\n",
    "    return a + b\n",
    "\n",
    "def subtract(a, b):\n",
    "    return a - b\n",
    "\n",
    "class TestMathOperations(unittest.TestCase):\n",
    "\n",
    "    def test_add(self):\n",
    "        self.assertEqual(add(2, 3), 5)\n",
    "        self.assertEqual(add(-1, 1), 0)\n",
    "        self.assertEqual(add(-1, -1), -2)\n",
    "\n",
    "    def test_subtract(self):\n",
    "        self.assertEqual(subtract(10, 5), 5)\n",
    "        self.assertEqual(subtract(-1, 1), -2)\n",
    "        self.assertEqual(subtract(-1, -1), 0)\n",
    "\n",
    "if __name__ == '__main__':\n",
    "    unittest.main(argv=['first-arg-is-ignored'], exit=False)\n"
   ]
  },
  {
   "cell_type": "markdown",
   "metadata": {},
   "source": [
    "## Bechmarking"
   ]
  },
  {
   "cell_type": "code",
   "execution_count": 1,
   "metadata": {},
   "outputs": [
    {
     "name": "stdout",
     "output_type": "stream",
     "text": [
      "Execution times: [0.07516720899999996, 0.073958792, 0.07264187500000019, 0.07247791700000006, 0.07211779200000001]\n"
     ]
    }
   ],
   "source": [
    "import timeit\n",
    "\n",
    "# Create a Timer object\n",
    "timer = timeit.Timer(\"compute()\", setup=\"\"\"\n",
    "from math import sqrt\n",
    "def compute():\n",
    "    return [sqrt(i) for i in range(1000)]\n",
    "\"\"\")\n",
    "\n",
    "# Run the timer\n",
    "execution_times = timer.repeat(repeat=5, number=1000)\n",
    "print(f\"Execution times: {execution_times}\")\n",
    "\n",
    "# Benchmarking code from another file (in any language)\n",
    "# import subprocess\n",
    "# import time\n",
    "\n",
    "# def run_benchmark(executable):\n",
    "#     start_time = time.time()\n",
    "#     subprocess.run([f\"./{executable}\"])\n",
    "#     end_time = time.time()\n",
    "#     return end_time - start_time\n",
    "\n",
    "# if __name__ == \"__main__\":\n",
    "#     execution_times = [run_benchmark(\"compute\") for _ in range(5)]\n",
    "#     print(f\"Execution times: {execution_times}\")\n",
    "\n"
   ]
  }
 ],
 "metadata": {
  "kernelspec": {
   "display_name": "Python 3",
   "language": "python",
   "name": "python3"
  },
  "language_info": {
   "codemirror_mode": {
    "name": "ipython",
    "version": 3
   },
   "file_extension": ".py",
   "mimetype": "text/x-python",
   "name": "python",
   "nbconvert_exporter": "python",
   "pygments_lexer": "ipython3",
   "version": "3.9.6"
  }
 },
 "nbformat": 4,
 "nbformat_minor": 2
}
