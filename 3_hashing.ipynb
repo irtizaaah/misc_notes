{
 "cells": [
  {
   "cell_type": "markdown",
   "metadata": {},
   "source": [
    "Hash function\n",
    "\n",
    "open hashing: store collisions in a linked list in the array\n",
    "\n",
    "open addressing/ closed hashing: store collisions in another location in the array. It can use linear or quadratic probing to store collisions in the next open slot that that has an address of i+n or i+n^2."
   ]
  }
 ],
 "metadata": {
  "language_info": {
   "name": "python"
  }
 },
 "nbformat": 4,
 "nbformat_minor": 2
}
